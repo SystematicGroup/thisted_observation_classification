{
 "cells": [
  {
   "cell_type": "markdown",
   "metadata": {},
   "source": [
    "# PyCaret on Superuser Data"
   ]
  },
  {
   "cell_type": "code",
   "execution_count": null,
   "metadata": {},
   "outputs": [],
   "source": [
    "import pandas as pd\n",
    "import numpy as np\n",
    "import re,string\n",
    "from matplotlib import pyplot as plt\n",
    "from sklearn import metrics\n",
    "import seaborn as sns\n",
    "from pycaret.classification import *\n",
    "from sklearn.metrics import accuracy_score\n",
    "from os import listdir\n",
    "from os.path import isfile, join"
   ]
  },
  {
   "cell_type": "markdown",
   "metadata": {},
   "source": [
    "### Load data"
   ]
  },
  {
   "cell_type": "code",
   "execution_count": null,
   "metadata": {},
   "outputs": [],
   "source": [
    "data_dir = '/NewData_ranCombination/All_samples/Embeddings/SuperUsers'"
   ]
  },
  {
   "cell_type": "code",
   "execution_count": null,
   "metadata": {},
   "outputs": [],
   "source": [
    "all_files = [f for f in listdir(data_dir) if isfile(join(data_dir, f))]\n",
    "all_files = [f[:-4] for f in all_files]\n",
    "label_files = sorted([f for f in all_files if ('label' in f)])       # alphabetically ordered\n",
    "filenames = sorted([f for f in all_files if (f not in label_files)]) # alphabetically ordered"
   ]
  },
  {
   "cell_type": "code",
   "execution_count": null,
   "metadata": {},
   "outputs": [],
   "source": [
    "print('Data:', filenames)\n",
    "print('')\n",
    "print('Labels:', label_files)"
   ]
  },
  {
   "cell_type": "code",
   "execution_count": null,
   "metadata": {},
   "outputs": [],
   "source": [
    "# LaBSE\n",
    "labse_df = pd.DataFrame(np.load(f'{data_dir}/{filenames[0]}.npy'))\n",
    "labse_df['obs_scheme'] = pd.DataFrame(np.load(f'{data_dir}/{label_files[0]}.npy'))\n",
    "\n",
    "labse_train = labse_df.iloc[:-2000,:]\n",
    "labse_test = labse_df.iloc[-2000:,:]\n",
    "\n",
    "print('Train:', labse_train.shape)\n",
    "print('Test:', labse_test.shape)"
   ]
  },
  {
   "cell_type": "code",
   "execution_count": null,
   "metadata": {},
   "outputs": [],
   "source": [
    "# Roberta\n",
    "rob_df = pd.DataFrame(np.load(f'{data_dir}/{filenames[1]}.npy'))\n",
    "rob_df['obs_scheme'] = pd.DataFrame(np.load(f'{data_dir}/{label_files[1]}.npy'))\n",
    "\n",
    "rob_train = rob_df.iloc[:-2000,:]\n",
    "rob_test = rob_df.iloc[-2000:,:]\n",
    "\n",
    "print('Train:', rob_train.shape)\n",
    "print('Test:', rob_test.shape)"
   ]
  },
  {
   "cell_type": "code",
   "execution_count": null,
   "metadata": {},
   "outputs": [],
   "source": [
    "# TF-IDF\n",
    "tfidf_df = pd.DataFrame(np.load(f'{data_dir}/{filenames[2]}.npy'))\n",
    "tfidf_df['obs_scheme'] = pd.DataFrame(np.load(f'{data_dir}/{label_files[2]}.npy'))\n",
    "\n",
    "tfidf_train = tfidf_df.iloc[:-2000,:]\n",
    "tfidf_test = tfidf_df.iloc[-2000:,:]\n",
    "\n",
    "print('Train:', tfidf_train.shape)\n",
    "print('Test:', tfidf_test.shape)"
   ]
  },
  {
   "cell_type": "code",
   "execution_count": null,
   "metadata": {},
   "outputs": [],
   "source": [
    "print('No. unique schemes, LaBSE: ', labse_train.obs_scheme.nunique())\n",
    "print('No. unique schemes, Roberta: ', rob_train.obs_scheme.nunique())\n",
    "print('No. unique schemes, TF-IDF: ', tfidf_train.obs_scheme.nunique())"
   ]
  },
  {
   "cell_type": "markdown",
   "metadata": {},
   "source": [
    "## PyCaret - LaBSE"
   ]
  },
  {
   "cell_type": "code",
   "execution_count": null,
   "metadata": {},
   "outputs": [],
   "source": [
    "clf = setup(\n",
    "    data = labse_train,\n",
    "    test_data = labse_test,\n",
    "    target = 'obs_scheme',\n",
    "    silent=True,\n",
    "    session_id = 1221,\n",
    "    use_gpu = True)"
   ]
  },
  {
   "cell_type": "code",
   "execution_count": null,
   "metadata": {},
   "outputs": [],
   "source": [
    "lr = create_model('lr', cross_validation = False)"
   ]
  },
  {
   "cell_type": "code",
   "execution_count": null,
   "metadata": {},
   "outputs": [],
   "source": [
    "ridge = create_model('ridge', cross_validation = False)"
   ]
  },
  {
   "cell_type": "code",
   "execution_count": null,
   "metadata": {},
   "outputs": [],
   "source": [
    "lda = create_model('lda', cross_validation = False)"
   ]
  },
  {
   "cell_type": "code",
   "execution_count": null,
   "metadata": {},
   "outputs": [],
   "source": [
    "svm = create_model('svm', cross_validation = False)"
   ]
  },
  {
   "cell_type": "markdown",
   "metadata": {},
   "source": [
    "#### Apply on test set"
   ]
  },
  {
   "cell_type": "code",
   "execution_count": null,
   "metadata": {},
   "outputs": [],
   "source": [
    "ypred_ridge = predict_model(ridge, labse_test)\n",
    "ypred_lr = predict_model(lr, labse_test)\n",
    "ypred_lda = predict_model(lda, labse_test)\n",
    "ypred_svm = predict_model(svm, labse_test)\n",
    "\n",
    "print(\"Ridge - LaBSE:\", accuracy_score(ypred_ridge.obs_scheme, ypred_ridge.Label))\n",
    "print(\"LR - LaBSE:\", accuracy_score(ypred_lr.obs_scheme, ypred_lr.Label))\n",
    "print(\"LDA - LaBSE:\", accuracy_score(ypred_lda.obs_scheme, ypred_lda.Label))\n",
    "print(\"SVM - LaBSE:\", accuracy_score(ypred_svm.obs_scheme, ypred_svm.Label))"
   ]
  },
  {
   "cell_type": "code",
   "execution_count": null,
   "metadata": {},
   "outputs": [],
   "source": [
    "save_model(ridge, 'ridge_labse_superuser_test2000su')\n",
    "save_model(lr, 'lr_labse_superuser_test2000su')\n",
    "save_model(lda, 'lda_labse_superuser_test2000su')\n",
    "save_model(svm, 'svm_labse_superuser_test2000su')"
   ]
  },
  {
   "cell_type": "markdown",
   "metadata": {},
   "source": [
    "## PyCaret - Roberta"
   ]
  },
  {
   "cell_type": "code",
   "execution_count": null,
   "metadata": {},
   "outputs": [],
   "source": [
    "clf = setup(\n",
    "    data = rob_train,\n",
    "    test_data = rob_test,\n",
    "    target = 'obs_scheme',\n",
    "    silent=True,\n",
    "    session_id = 1221,\n",
    "    use_gpu = True)"
   ]
  },
  {
   "cell_type": "code",
   "execution_count": null,
   "metadata": {},
   "outputs": [],
   "source": [
    "lr = create_model('lr', cross_validation = False)"
   ]
  },
  {
   "cell_type": "code",
   "execution_count": null,
   "metadata": {},
   "outputs": [],
   "source": [
    "ridge = create_model('ridge', cross_validation = False)"
   ]
  },
  {
   "cell_type": "code",
   "execution_count": null,
   "metadata": {},
   "outputs": [],
   "source": [
    "lda = create_model('lda', cross_validation = False)"
   ]
  },
  {
   "cell_type": "code",
   "execution_count": null,
   "metadata": {},
   "outputs": [],
   "source": [
    "svm = create_model('svm', cross_validation = False)"
   ]
  },
  {
   "cell_type": "markdown",
   "metadata": {},
   "source": [
    "#### Apply on test set"
   ]
  },
  {
   "cell_type": "code",
   "execution_count": null,
   "metadata": {},
   "outputs": [],
   "source": [
    "ypred_ridge = predict_model(ridge, rob_test)\n",
    "ypred_lr = predict_model(lr, rob_test)\n",
    "ypred_lda = predict_model(lda, rob_test)\n",
    "ypred_svm = predict_model(svm, rob_test)\n",
    "\n",
    "print(\"Ridge - Roberta:\", accuracy_score(ypred_ridge.obs_scheme, ypred_ridge.Label))\n",
    "print(\"LR - Roberta:\", accuracy_score(ypred_lr.obs_scheme, ypred_lr.Label))\n",
    "print(\"LDA - Roberta:\", accuracy_score(ypred_lda.obs_scheme, ypred_lda.Label))\n",
    "print(\"SVM - Roberta:\", accuracy_score(ypred_svm.obs_scheme, ypred_svm.Label))"
   ]
  },
  {
   "cell_type": "code",
   "execution_count": null,
   "metadata": {},
   "outputs": [],
   "source": [
    "save_model(ridge, 'ridge_roberta_superuser')\n",
    "save_model(lr, 'lr_roberta_superuser')\n",
    "save_model(lda, 'lda_roberta_superuser')\n",
    "save_model(svm, 'svm_roberta_superuser')"
   ]
  },
  {
   "cell_type": "markdown",
   "metadata": {},
   "source": [
    "## PyCaret - TF-IDF"
   ]
  },
  {
   "cell_type": "code",
   "execution_count": null,
   "metadata": {},
   "outputs": [],
   "source": [
    "clf = setup(\n",
    "    data = tfidf_train,\n",
    "    test_data = tfidf_test,\n",
    "    target = 'obs_scheme',\n",
    "    silent=True,\n",
    "    session_id = 1221,\n",
    "    use_gpu = True)"
   ]
  },
  {
   "cell_type": "code",
   "execution_count": null,
   "metadata": {},
   "outputs": [],
   "source": [
    "lr = create_model('lr', cross_validation = False)"
   ]
  },
  {
   "cell_type": "code",
   "execution_count": null,
   "metadata": {},
   "outputs": [],
   "source": [
    "ridge = create_model('ridge', cross_validation = False)"
   ]
  },
  {
   "cell_type": "code",
   "execution_count": null,
   "metadata": {},
   "outputs": [],
   "source": [
    "lda = create_model('lda', cross_validation = False)"
   ]
  },
  {
   "cell_type": "code",
   "execution_count": null,
   "metadata": {},
   "outputs": [],
   "source": [
    "svm = create_model('svm', cross_validation = False)"
   ]
  },
  {
   "cell_type": "markdown",
   "metadata": {},
   "source": [
    "#### Apply on test set"
   ]
  },
  {
   "cell_type": "code",
   "execution_count": null,
   "metadata": {},
   "outputs": [],
   "source": [
    "ypred_ridge = predict_model(ridge, tfidf_test)\n",
    "ypred_lr = predict_model(lr, tfidf_test)\n",
    "ypred_lda = predict_model(lda, tfidf_test)\n",
    "ypred_svm = predict_model(svm, tfidf_test)\n",
    "\n",
    "print(\"Ridge - TFIDF:\", accuracy_score(ypred_ridge.obs_scheme, ypred_ridge.Label))\n",
    "print(\"LR - TFIDF:\", accuracy_score(ypred_lr.obs_scheme, ypred_lr.Label))\n",
    "print(\"LDA - LaBSE:\", accuracy_score(ypred_lda.obs_scheme, ypred_lda.Label))\n",
    "print(\"SVM - TFIDF:\", accuracy_score(ypred_svm.obs_scheme, ypred_svm.Label))"
   ]
  },
  {
   "cell_type": "code",
   "execution_count": null,
   "metadata": {},
   "outputs": [],
   "source": [
    "save_model(ridge, 'ridge_tfidf_superuser_test2000su')\n",
    "save_model(lr, 'lr_tfidf_superuser_test2000su')\n",
    "save_model(lda, 'lda_tfidf_superuser')\n",
    "save_model(svm, 'svm_tfidf_superuser_test2000su')"
   ]
  }
 ],
 "metadata": {
  "interpreter": {
   "hash": "611087654abcffa7dce544867e21a9e5c2536a041fa018cce351cd3a11c49ce5"
  },
  "kernelspec": {
   "display_name": "Python 3.9.6 64-bit (conda)",
   "language": "python",
   "name": "python3"
  },
  "language_info": {
   "codemirror_mode": {
    "name": "ipython",
    "version": 3
   },
   "file_extension": ".py",
   "mimetype": "text/x-python",
   "name": "python",
   "nbconvert_exporter": "python",
   "pygments_lexer": "ipython3",
   "version": "3.9.6"
  },
  "orig_nbformat": 4
 },
 "nbformat": 4,
 "nbformat_minor": 2
}
